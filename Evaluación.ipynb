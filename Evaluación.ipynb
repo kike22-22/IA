{
  "nbformat": 4,
  "nbformat_minor": 0,
  "metadata": {
    "colab": {
      "provenance": [],
      "authorship_tag": "ABX9TyOpKSV4k9Xf6wCLA+jC7UQQ",
      "include_colab_link": true
    },
    "kernelspec": {
      "name": "python3",
      "display_name": "Python 3"
    },
    "language_info": {
      "name": "python"
    }
  },
  "cells": [
    {
      "cell_type": "markdown",
      "metadata": {
        "id": "view-in-github",
        "colab_type": "text"
      },
      "source": [
        "<a href=\"https://colab.research.google.com/github/kike22-22/IA/blob/main/Evaluaci%C3%B3n.ipynb\" target=\"_parent\"><img src=\"https://colab.research.google.com/assets/colab-badge.svg\" alt=\"Open In Colab\"/></a>"
      ]
    },
    {
      "cell_type": "markdown",
      "source": [
        "# Evaluacion\n",
        "\n",
        "Crear un notebook en colab a partir del programa base de la compuerta AND\n",
        "Modificar para que funcione con las dos compuertas AND y OR\n",
        "Criterios de aceptación: El programa va a solicitar los valores del datashet para X0 y X1, por lo cual\n",
        "la impresión de resultados debe mostrar la compuerta AND y la compuerta OR (Y).\n",
        "Menu interactivo donde pregunte si quiero introducir otro datashet"
      ],
      "metadata": {
        "id": "GNmfxtdQJVsO"
      }
    },
    {
      "cell_type": "markdown",
      "source": [
        "Primera parte del codigo donde encontraremos variables y la funcion de calcular los resultados."
      ],
      "metadata": {
        "id": "IeurVjxoLDCS"
      }
    },
    {
      "cell_type": "code",
      "source": [
        "def calcular_compuertas(x):\n",
        "    w_and = [-100, 300]\n",
        "    w_or = [1, 1]\n",
        "    s_and = sum(x[i] * w_and[i] for i in range(2))\n",
        "    s_or = sum(x[i] * w_or[i] for i in range(2))\n",
        "\n",
        "    # Calcular\n",
        "    y_and = 1 if s_and > 0 else 0\n",
        "    y_or = 1 if s_or > 0 else 0\n",
        "\n",
        "    return y_and, y_or\n",
        "\n",
        "def mostrar_menu():\n",
        "    print(\"\\n--- SELECCIONA UNA OPCION ---\")\n",
        "    print(\"1. Introducir valores para X0 y X1\")\n",
        "    print(\"2. Salir del programa\")\n",
        "    print(\"-------------------------\")\n",
        "\n",
        "while True:\n",
        "    mostrar_menu()\n",
        "\n",
        "    opcion = input(\"Selecciona una opción (1 o 2): \")\n",
        "\n",
        "    if opcion == '1':\n",
        "        # Solicitar valores\n",
        "        entrada = input(\"Introduce el valor para X0 (0 o 1): \")\n",
        "        if entrada.lower() == 'salir':\n",
        "            break\n",
        "        x0 = int(entrada)\n",
        "\n",
        "        entrada = input(\"Introduce el valor para X1 (0 o 1): \")\n",
        "        if entrada.lower() == 'salir':\n",
        "            break\n",
        "        x1 = int(entrada)\n",
        "\n",
        "        if x0 not in [0, 1] or x1 not in [0, 1]:\n",
        "            print(\"Por favor, introduce solo 0 o 1.\")\n",
        "            continue\n",
        "\n",
        "        x = [x0, x1]\n",
        "        y_and, y_or = calcular_compuertas(x)\n",
        "\n",
        "        # Imprimir\n",
        "        print(\"\\nResultados:\")\n",
        "        print(f\"{x[0]} AND {x[1]} = {y_and}\")\n",
        "        print(f\"{x[0]} OR {x[1]} = {y_or}\")\n",
        "\n",
        "    elif opcion == '2':\n",
        "        print(\"¡Gracias por usar el programa! Hasta luego.\")\n",
        "        break\n",
        "    else:\n",
        "        print(\"Opción no válida, por favor selecciona 1 o 2.\")\n",
        "\n"
      ],
      "metadata": {
        "colab": {
          "base_uri": "https://localhost:8080/"
        },
        "id": "tUOQVEYgKBh9",
        "outputId": "2b2d8866-5202-4eb7-926b-90e6ff45ab8f"
      },
      "execution_count": 12,
      "outputs": [
        {
          "output_type": "stream",
          "name": "stdout",
          "text": [
            "\n",
            "--- SELECCIONA UNA OPCION ---\n",
            "1. Introducir valores para X0 y X1\n",
            "2. Salir del programa\n",
            "-------------------------\n",
            "Selecciona una opción (1 o 2): q\n",
            "Opción no válida, por favor selecciona 1 o 2.\n",
            "\n",
            "--- SELECCIONA UNA OPCION ---\n",
            "1. Introducir valores para X0 y X1\n",
            "2. Salir del programa\n",
            "-------------------------\n",
            "Selecciona una opción (1 o 2): 0\n",
            "Opción no válida, por favor selecciona 1 o 2.\n",
            "\n",
            "--- SELECCIONA UNA OPCION ---\n",
            "1. Introducir valores para X0 y X1\n",
            "2. Salir del programa\n",
            "-------------------------\n",
            "Selecciona una opción (1 o 2): 1\n",
            "Introduce el valor para X0 (0 o 1): 1\n",
            "Introduce el valor para X1 (0 o 1): 1\n",
            "\n",
            "Resultados:\n",
            "1 AND 1 = 1\n",
            "1 OR 1 = 1\n",
            "\n",
            "--- SELECCIONA UNA OPCION ---\n",
            "1. Introducir valores para X0 y X1\n",
            "2. Salir del programa\n",
            "-------------------------\n",
            "Selecciona una opción (1 o 2): 1\n",
            "Introduce el valor para X0 (0 o 1): 0\n",
            "Introduce el valor para X1 (0 o 1): 1\n",
            "\n",
            "Resultados:\n",
            "0 AND 1 = 1\n",
            "0 OR 1 = 1\n",
            "\n",
            "--- SELECCIONA UNA OPCION ---\n",
            "1. Introducir valores para X0 y X1\n",
            "2. Salir del programa\n",
            "-------------------------\n",
            "Selecciona una opción (1 o 2): 2\n",
            "¡Gracias por usar el programa! Hasta luego.\n"
          ]
        }
      ]
    },
    {
      "cell_type": "markdown",
      "source": [
        "En la primera parte del codigo logramos ver coomo estan definidas la variables para la co puerta AND y OR, asi como tambien la funcion para calcular los reseltados, tambien esta conformado por un menu interactivo, donde nos permite elegir entre introducir los valores, o terminar el programa, asi como tambien donde solicita los valores de entrada y al final la impresion de los resultados."
      ],
      "metadata": {
        "id": "DpVxOBHLOacj"
      }
    }
  ]
}