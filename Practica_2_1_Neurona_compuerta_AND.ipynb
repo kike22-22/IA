{
  "nbformat": 4,
  "nbformat_minor": 0,
  "metadata": {
    "colab": {
      "provenance": [],
      "authorship_tag": "ABX9TyPRY2hTr4wY3L1Zl5Lshg0k",
      "include_colab_link": true
    },
    "kernelspec": {
      "name": "python3",
      "display_name": "Python 3"
    },
    "language_info": {
      "name": "python"
    }
  },
  "cells": [
    {
      "cell_type": "markdown",
      "metadata": {
        "id": "view-in-github",
        "colab_type": "text"
      },
      "source": [
        "<a href=\"https://colab.research.google.com/github/kike22-22/IA/blob/main/Practica_2_1_Neurona_compuerta_AND.ipynb\" target=\"_parent\"><img src=\"https://colab.research.google.com/assets/colab-badge.svg\" alt=\"Open In Colab\"/></a>"
      ]
    },
    {
      "cell_type": "markdown",
      "source": [
        "#Neurona compuerta AND"
      ],
      "metadata": {
        "id": "07BGl8ibGCVV"
      }
    },
    {
      "cell_type": "code",
      "source": [
        "x = [0, 1]\n",
        "w = [-100, 300]\n",
        "s = 0\n",
        "y = 0\n",
        "\n",
        "for i in range(0, 2):\n",
        "    s = s + x[i] * w[i]\n",
        "print(s)\n",
        "\n",
        "y = 1 if s > 0 else 0\n",
        "print(x[0], 'AND', x[1], '=', y)\n"
      ],
      "metadata": {
        "colab": {
          "base_uri": "https://localhost:8080/"
        },
        "id": "DHLC8EcwGKb0",
        "outputId": "5c7b72e7-15a0-45d2-f54e-a64ad8a41f00"
      },
      "execution_count": 3,
      "outputs": [
        {
          "output_type": "stream",
          "name": "stdout",
          "text": [
            "300\n",
            "0 AND 1 = 1\n"
          ]
        }
      ]
    },
    {
      "cell_type": "markdown",
      "source": [
        "En el codigo proporcionado, habia un codigo de bloque repetido, por lo cual marcaba error de sintaxis en la linea 10, si poniaos el codigo tal cual.\n",
        "aqio ya esta corregido."
      ],
      "metadata": {
        "id": "DDvXoe1jHSOQ"
      }
    }
  ]
}