{
  "nbformat": 4,
  "nbformat_minor": 0,
  "metadata": {
    "colab": {
      "provenance": [],
      "authorship_tag": "ABX9TyPJVKs0a1FkqPcEE7M5xbWb",
      "include_colab_link": true
    },
    "kernelspec": {
      "name": "python3",
      "display_name": "Python 3"
    },
    "language_info": {
      "name": "python"
    }
  },
  "cells": [
    {
      "cell_type": "markdown",
      "metadata": {
        "id": "view-in-github",
        "colab_type": "text"
      },
      "source": [
        "<a href=\"https://colab.research.google.com/github/kike22-22/IA/blob/main/Practica_2_Ejercicios_en_python.ipynb\" target=\"_parent\"><img src=\"https://colab.research.google.com/assets/colab-badge.svg\" alt=\"Open In Colab\"/></a>"
      ]
    },
    {
      "cell_type": "markdown",
      "source": [
        "EJECICIO 1\n",
        "Un taller automotriz necesita llevar un control de su inventario de repuestos. Crea un programa que permita agregar, eliminar y consultar la cantidad de repuestos disponibles, así como realizar una compra cuando el inventario de un repuesto está bajo."
      ],
      "metadata": {
        "id": "ZDu2dFA6FdCl"
      }
    },
    {
      "cell_type": "markdown",
      "source": [],
      "metadata": {
        "id": "_Y7QaT7UFnrk"
      }
    },
    {
      "cell_type": "markdown",
      "source": [
        "1.   Se crea un contenedor donde se alamcenaran todos los datos ingresados\n",
        "2.   Se define una funcion del menu\n",
        "3.   Mostrara todo el menu con print\n",
        "\n",
        "\n",
        "\n",
        "\n"
      ],
      "metadata": {
        "id": "Gp74AkS7GD80"
      }
    },
    {
      "cell_type": "code",
      "source": [
        "inventario = {}\n",
        "\n",
        "def mostrar_menu():\n",
        "    print(\"\\n--- Menú de Inventario del Taller ---\")\n",
        "    print(\"1. Agregar/Actualizar repuesto\")\n",
        "    print(\"2. Disminuir cantidad de repuesto\")\n",
        "    print(\"3. Consultar repuestos\")\n",
        "    print(\"4. Realizar compra de repuesto\")\n",
        "    print(\"5. Salir\")"
      ],
      "metadata": {
        "id": "O46cVo1IGFpb"
      },
      "execution_count": 8,
      "outputs": []
    },
    {
      "cell_type": "markdown",
      "source": [
        "Se añade una funcion par apoder agregar datos, asi como las unidades que quieres agregar Cosas que aprendi:\n",
        "\n",
        "1.    capitalize() - Su funcion es cuando damos una entrada de tipo str la primera letra la pone mayuscula y el resto en minuscula para mantener un orden\n",
        "2.   La f al inicio de un print es de f-string que pasa las variables para msotrarlas en cadena\n",
        "3.   Los if ayudan a llevar un control y a crear filtros\n",
        "\n",
        "\n"
      ],
      "metadata": {
        "id": "ZEpJ9r-PHFu4"
      }
    },
    {
      "cell_type": "code",
      "source": [
        "def agregar_repuesto():\n",
        "    repuesto = input(\"Introduce el nombre del repuesto: \").capitalize()\n",
        "    try:\n",
        "        cantidad = int(input(f\"Introduce la cantidad de '{repuesto}': \"))\n",
        "        if cantidad < 0:\n",
        "            print(\"La cantidad no puede ser negativa.\")\n",
        "            return\n",
        "    except ValueError:\n",
        "        print(\"Por favor, introduce un número válido.\")\n",
        "        return\n",
        "\n",
        "    if repuesto in inventario:\n",
        "        inventario[repuesto] += cantidad\n",
        "        print(f\"La cantidad de '{repuesto}' ha sido actualizada a {inventario[repuesto]}.\")\n",
        "    else:\n",
        "        inventario[repuesto] = cantidad\n",
        "        print(f\"'{repuesto}' ha sido agregado con una cantidad de {cantidad}.\")"
      ],
      "metadata": {
        "id": "bT42D6qUIHeQ"
      },
      "execution_count": 1,
      "outputs": []
    },
    {
      "cell_type": "markdown",
      "source": [
        "1. Definimos una funcion para disminuir o eliminar una variable\n",
        "2. Los if nos ayudan a llevar un control y crear filtros\n",
        "3. De igual manera usamos el capitalize para llevar un mejor control"
      ],
      "metadata": {
        "id": "1oxRgxTPIa2s"
      }
    },
    {
      "cell_type": "code",
      "source": [
        "def disminuir_repuesto():\n",
        "    repuesto = input(\"Introduce el nombre del repuesto que deseas disminuir: \").capitalize()\n",
        "\n",
        "    if repuesto in inventario:\n",
        "        cantidad_actual = inventario[repuesto]\n",
        "        print(f\"Cantidad actual de '{repuesto}': {cantidad_actual} unidades\")\n",
        "\n",
        "        try:\n",
        "            cantidad_a_disminuir = int(input(f\"Introduce la cantidad a disminuir de '{repuesto}': \"))\n",
        "            if cantidad_a_disminuir < 0:\n",
        "                print(\"La cantidad a disminuir no puede ser negativa.\")\n",
        "                return\n",
        "        except ValueError:\n",
        "            print(\"Por favor, introduce un número válido.\")\n",
        "            return\n",
        "\n",
        "        if cantidad_a_disminuir >= cantidad_actual:\n",
        "            print(f\"Se ha disminuido toda la cantidad de '{repuesto}'. '{repuesto}' será eliminado del inventario.\")\n",
        "            del inventario[repuesto]  # Elimina el repuesto si la cantidad se reduce a cero o menos\n",
        "        else:\n",
        "            inventario[repuesto] -= cantidad_a_disminuir\n",
        "            print(f\"Se ha disminuido {cantidad_a_disminuir} unidades de '{repuesto}'. Ahora quedan {inventario[repuesto]} en inventario.\")\n",
        "    else:\n",
        "        print(f\"'{repuesto}' no está en el inventario.\")"
      ],
      "metadata": {
        "id": "tS4q2jV_AL48"
      },
      "execution_count": 2,
      "outputs": []
    },
    {
      "cell_type": "markdown",
      "source": [
        "Definimos una funcion para imprimir todas las variables que tenemos"
      ],
      "metadata": {
        "id": "VEtJ8aIIAPgN"
      }
    },
    {
      "cell_type": "code",
      "source": [
        "def consultar_repuestos():\n",
        "    if inventario:\n",
        "        print(\"\\n--- Inventario Actual ---\")\n",
        "        for repuesto, cantidad in inventario.items():\n",
        "            print(f\"{repuesto}: {cantidad} unidades\")\n",
        "    else:\n",
        "        print(\"El inventario está vacío.\")"
      ],
      "metadata": {
        "id": "iwGvYe-7AQmR"
      },
      "execution_count": 3,
      "outputs": []
    },
    {
      "cell_type": "markdown",
      "source": [
        "1. Usamos de la misma manera capitalize para llevar un control con los nombres\n",
        "2. Utilizamos if para añadir filtros\n",
        "3. Si un material esta bajo de lo que queremos nos sugirara comprar"
      ],
      "metadata": {
        "id": "X74GnjAXAUB1"
      }
    },
    {
      "cell_type": "code",
      "source": [
        "def realizar_compra():\n",
        "    repuesto = input(\"Introduce el nombre del repuesto para realizar la compra: \").capitalize()\n",
        "\n",
        "    if repuesto in inventario:\n",
        "        cantidad_actual = inventario[repuesto]\n",
        "        print(f\"Cantidad actual de '{repuesto}': {cantidad_actual} unidades\")\n",
        "\n",
        "        try:\n",
        "            limite_bajo = int(input(f\"Introduce la cantidad mínima de '{repuesto}' para realizar una compra: \"))\n",
        "            if limite_bajo < 0:\n",
        "                print(\"El límite mínimo no puede ser negativo.\")\n",
        "                return\n",
        "        except ValueError:\n",
        "            print(\"Por favor, introduce un número válido.\")\n",
        "            return\n",
        "\n",
        "        if cantidad_actual < limite_bajo:\n",
        "            try:\n",
        "                cantidad_comprada = int(input(f\"Introduce la cantidad a comprar de '{repuesto}': \"))\n",
        "                if cantidad_comprada < 0:\n",
        "                    print(\"La cantidad a comprar no puede ser negativa.\")\n",
        "                    return\n",
        "            except ValueError:\n",
        "                print(\"Por favor, introduce un número válido.\")\n",
        "                return\n",
        "\n",
        "            inventario[repuesto] += cantidad_comprada\n",
        "            print(f\"Se han comprado {cantidad_comprada} unidades de '{repuesto}'. Ahora hay {inventario[repuesto]} en inventario.\")\n",
        "        else:\n",
        "            print(f\"No es necesario realizar una compra. Hay suficiente cantidad de '{repuesto}' en inventario.\")\n",
        "    else:\n",
        "        print(f\"'{repuesto}' no está en el inventario. Añádelo primero.\")"
      ],
      "metadata": {
        "id": "Onxze5ZTAZ9R"
      },
      "execution_count": 4,
      "outputs": []
    },
    {
      "cell_type": "markdown",
      "source": [
        "1. Creamos un bucle\n",
        "2. Llamamos a la funcion de mostrar_menu para que imprima los valores\n",
        "3. Añadimos if como filtros y a cada uno le asignamos un valor que llame a una funcion predeterminada"
      ],
      "metadata": {
        "id": "7XsV1RHSAg89"
      }
    },
    {
      "cell_type": "code",
      "source": [
        "# Bucle principal del menú\n",
        "while True:\n",
        "    mostrar_menu()\n",
        "    opcion = input(\"Selecciona una opción: \")\n",
        "\n",
        "    if opcion == \"1\":\n",
        "        agregar_repuesto()\n",
        "    elif opcion == \"2\":\n",
        "        disminuir_repuesto()\n",
        "    elif opcion == \"3\":\n",
        "        consultar_repuestos()\n",
        "    elif opcion == \"4\":\n",
        "        realizar_compra()\n",
        "    elif opcion == \"5\":\n",
        "        print(\"Saliendo del programa. ¡Hasta luego!\")\n",
        "        break\n",
        "    else:\n",
        "        print(\"Opción no válida, por favor intenta de nuevo.\")\n",
        ""
      ],
      "metadata": {
        "colab": {
          "base_uri": "https://localhost:8080/"
        },
        "id": "TroTx0NEAoGv",
        "outputId": "b8c784d9-b923-4e22-c7fd-83b4e6366de5"
      },
      "execution_count": 10,
      "outputs": [
        {
          "output_type": "stream",
          "name": "stdout",
          "text": [
            "\n",
            "--- Menú de Inventario del Taller ---\n",
            "1. Agregar/Actualizar repuesto\n",
            "2. Disminuir cantidad de repuesto\n",
            "3. Consultar repuestos\n",
            "4. Realizar compra de repuesto\n",
            "5. Salir\n",
            "Selecciona una opción: 1\n",
            "Introduce el nombre del repuesto: 12\n",
            "Introduce la cantidad de '12': 12\n",
            "La cantidad de '12' ha sido actualizada a 22.\n",
            "\n",
            "--- Menú de Inventario del Taller ---\n",
            "1. Agregar/Actualizar repuesto\n",
            "2. Disminuir cantidad de repuesto\n",
            "3. Consultar repuestos\n",
            "4. Realizar compra de repuesto\n",
            "5. Salir\n",
            "Selecciona una opción: 2\n",
            "Introduce el nombre del repuesto que deseas disminuir: 12\n",
            "Cantidad actual de '12': 22 unidades\n",
            "Introduce la cantidad a disminuir de '12': 3\n",
            "Se ha disminuido 3 unidades de '12'. Ahora quedan 19 en inventario.\n",
            "\n",
            "--- Menú de Inventario del Taller ---\n",
            "1. Agregar/Actualizar repuesto\n",
            "2. Disminuir cantidad de repuesto\n",
            "3. Consultar repuestos\n",
            "4. Realizar compra de repuesto\n",
            "5. Salir\n",
            "Selecciona una opción: 5\n",
            "Saliendo del programa. ¡Hasta luego!\n"
          ]
        }
      ]
    },
    {
      "cell_type": "markdown",
      "source": [
        "EJERCICIO 2\n",
        "Una empresa de servicios a terceros ofrece proyectos de consultoría y debe llevar el control de horas trabajadas por sus empleados en diferentes proyectos. Crea un programa que calcule las horas totales trabajadas por cada empleado en varios proyectos y su costo total en función de la tarifa por hora."
      ],
      "metadata": {
        "id": "5KiNC5LQBbka"
      }
    },
    {
      "cell_type": "markdown",
      "source": [
        "1. Creamos un contenedor donde almacenemos todos datos que vamos a ingresar\n",
        "2. Definimos un menu para imprimir los print"
      ],
      "metadata": {
        "id": "b34h4NiJBkLw"
      }
    },
    {
      "cell_type": "code",
      "source": [
        "empleados = {}\n",
        "\n",
        "def mostrar_menu():\n",
        "    print(\"\\n--- Menú de Control de Horas Trabajadas ---\")\n",
        "    print(\"1. Agregar/Actualizar empleado y horas trabajadas\")\n",
        "    print(\"2. Calcular horas totales y costo total\")\n",
        "    print(\"3. Mostrar todos los empleados y proyectos\")\n",
        "    print(\"4. Salir\")"
      ],
      "metadata": {
        "id": "i1yJkbRwBoWM"
      },
      "execution_count": 11,
      "outputs": []
    },
    {
      "cell_type": "markdown",
      "source": [
        "1. Definimos una funcion para agregar las horas y el empleado, asi mismo como para actualizarlo\n",
        "2. Usamos la capitalize para llevar un mejor control en los datos\n",
        "3. Añadimos if para verificar si el empleado que añadimos ya existe o aun no\n",
        "4. Si existe solo actualizaremos los datos"
      ],
      "metadata": {
        "id": "n5gBMpmABvuW"
      }
    },
    {
      "cell_type": "code",
      "source": [
        "def agregar_horas():\n",
        "    empleado = input(\"Introduce el nombre del empleado: \").capitalize()\n",
        "    proyecto = input(\"Introduce el nombre del proyecto: \").capitalize()\n",
        "    horas = float(input(f\"Introduce las horas trabajadas en '{proyecto}': \"))\n",
        "    tarifa_hora = float(input(f\"Introduce la tarifa por hora de '{empleado}': \"))\n",
        "\n",
        "    if empleado not in empleados:\n",
        "        empleados[empleado] = {\n",
        "            'tarifa_hora': tarifa_hora,\n",
        "            'proyectos': {}\n",
        "        }\n",
        "\n",
        "    if proyecto in empleados[empleado]['proyectos']:\n",
        "        empleados[empleado]['proyectos'][proyecto] += horas\n",
        "    else:\n",
        "        empleados[empleado]['proyectos'][proyecto] = horas\n",
        "\n",
        "    print(f\"Se han registrado {horas} horas trabajadas en '{proyecto}' para '{empleado}'.\")"
      ],
      "metadata": {
        "id": "xmDD_0YuBzRt"
      },
      "execution_count": 14,
      "outputs": []
    },
    {
      "cell_type": "markdown",
      "source": [
        "1. Añadimos una funcion para calcular los costos\n",
        "2. Creamos un if para filtrar si hay empleados con ese nombre o no\n",
        "3. Con el ultimo if imprimimos todos los valores segun correspondan\n",
        "4. En python para mostrar el tipo flotante en una cadena es con .2f"
      ],
      "metadata": {
        "id": "uiY6ByhoB25g"
      }
    },
    {
      "cell_type": "code",
      "source": [
        "def calcular_costos():\n",
        "    if not empleados:\n",
        "        print(\"No hay empleados registrados.\")\n",
        "        return\n",
        "\n",
        "    for empleado, datos in empleados.items():\n",
        "        total_horas = sum(datos['proyectos'].values())\n",
        "        costo_total = total_horas * datos['tarifa_hora']\n",
        "        print(f\"\\nEmpleado: {empleado}\")\n",
        "        print(f\"Horas Totales Trabajadas: {total_horas}\")\n",
        "        print(f\"Costo Total: ${costo_total:.2f}\")"
      ],
      "metadata": {
        "id": "v2ExW9k6B8Oc"
      },
      "execution_count": 13,
      "outputs": []
    },
    {
      "cell_type": "markdown",
      "source": [
        "1. Definimos otra funcion para imprimir todos los empleados junto con los valores"
      ],
      "metadata": {
        "id": "sB-bEZaCCAL2"
      }
    },
    {
      "cell_type": "code",
      "source": [
        "def mostrar_empleados():\n",
        "    if not empleados:\n",
        "        print(\"No hay empleados registrados.\")\n",
        "        return\n",
        "\n",
        "    for empleado, datos in empleados.items():\n",
        "        print(f\"\\nEmpleado: {empleado}\")\n",
        "        print(f\"Tarifa por Hora: ${datos['tarifa_hora']:.2f}\")\n",
        "        for proyecto, horas in datos['proyectos'].items():\n",
        "            print(f\"Proyecto: {proyecto}\")\n",
        "            print(f\"Horas Trabajadas: {horas}\")"
      ],
      "metadata": {
        "id": "_JWlvZ9wCbzd"
      },
      "execution_count": 15,
      "outputs": []
    },
    {
      "cell_type": "markdown",
      "source": [
        "1. Creamos un bucle para mostrar el menu\n",
        "2. Añadimos if para filtrar y asignar cada opcion y su funcion"
      ],
      "metadata": {
        "id": "_Ja0KuiJCe3U"
      }
    },
    {
      "cell_type": "code",
      "source": [
        "while True:\n",
        "    mostrar_menu()\n",
        "    opcion = input(\"Selecciona una opción: \")\n",
        "\n",
        "    if opcion == \"1\":\n",
        "        agregar_horas()\n",
        "    elif opcion == \"2\":\n",
        "        calcular_costos()\n",
        "    elif opcion == \"3\":\n",
        "        mostrar_empleados()\n",
        "    elif opcion == \"4\":\n",
        "        print(\"Saliendo del programa. ¡Hasta luego!\")\n",
        "        break\n",
        "    else:\n",
        "        print(\"Opción no válida, por favor intenta de nuevo.\")"
      ],
      "metadata": {
        "colab": {
          "base_uri": "https://localhost:8080/"
        },
        "id": "5on2sLm6CjIy",
        "outputId": "7daeefe4-2d65-41c1-8fc2-7dc4d4d83a73"
      },
      "execution_count": 16,
      "outputs": [
        {
          "output_type": "stream",
          "name": "stdout",
          "text": [
            "\n",
            "--- Menú de Control de Horas Trabajadas ---\n",
            "1. Agregar/Actualizar empleado y horas trabajadas\n",
            "2. Calcular horas totales y costo total\n",
            "3. Mostrar todos los empleados y proyectos\n",
            "4. Salir\n",
            "Selecciona una opción: 1\n",
            "Introduce el nombre del empleado: Enrique Monreal\n",
            "Introduce el nombre del proyecto: ASW\n",
            "Introduce las horas trabajadas en 'Asw': 54\n",
            "Introduce la tarifa por hora de 'Enrique monreal': 150\n",
            "Se han registrado 54.0 horas trabajadas en 'Asw' para 'Enrique monreal'.\n",
            "\n",
            "--- Menú de Control de Horas Trabajadas ---\n",
            "1. Agregar/Actualizar empleado y horas trabajadas\n",
            "2. Calcular horas totales y costo total\n",
            "3. Mostrar todos los empleados y proyectos\n",
            "4. Salir\n",
            "Selecciona una opción: 2\n",
            "\n",
            "Empleado: Enrique monreal\n",
            "Horas Totales Trabajadas: 54.0\n",
            "Costo Total: $8100.00\n",
            "\n",
            "--- Menú de Control de Horas Trabajadas ---\n",
            "1. Agregar/Actualizar empleado y horas trabajadas\n",
            "2. Calcular horas totales y costo total\n",
            "3. Mostrar todos los empleados y proyectos\n",
            "4. Salir\n",
            "Selecciona una opción: 4\n",
            "Saliendo del programa. ¡Hasta luego!\n"
          ]
        }
      ]
    }
  ]
}