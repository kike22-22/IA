{
  "nbformat": 4,
  "nbformat_minor": 0,
  "metadata": {
    "colab": {
      "provenance": [],
      "authorship_tag": "ABX9TyNGZ8R11jC09cZURFitk1jc",
      "include_colab_link": true
    },
    "kernelspec": {
      "name": "python3",
      "display_name": "Python 3"
    },
    "language_info": {
      "name": "python"
    }
  },
  "cells": [
    {
      "cell_type": "markdown",
      "metadata": {
        "id": "view-in-github",
        "colab_type": "text"
      },
      "source": [
        "<a href=\"https://colab.research.google.com/github/kike22-22/IA/blob/main/Pr%C3%A1ctica_2_Detecci%C3%B3n_de_imagenes_computer_vision.ipynb\" target=\"_parent\"><img src=\"https://colab.research.google.com/assets/colab-badge.svg\" alt=\"Open In Colab\"/></a>"
      ]
    },
    {
      "cell_type": "code",
      "execution_count": null,
      "metadata": {
        "id": "EwyChu2VFL0R"
      },
      "outputs": [],
      "source": [
        "from ast import Not\n",
        "from email.mime import image\n",
        "import numpy as np\n",
        "import cv2\n",
        "import imutils\n",
        "\n",
        "def ordenar_puntos(puntos):\n",
        "    n_puntos = np.concatenate([puntos[0], puntos[1], puntos[2], puntos[3]]).tolist()\n",
        "    y_order = sorted(n_puntos, key=lambda n_puntos: n_puntos[1])\n",
        "\n",
        "    x1_order = y_order[:2]\n",
        "    x1_order = sorted(x1_order, key=lambda x1_order: x1_order[0])\n",
        "\n",
        "    x2_order = y_order[2:4]\n",
        "    x2_order = sorted(x2_order, key=lambda x2_order: x2_order[0])\n",
        "\n",
        "    return [x1_order[0], x1_order[1], x2_order[0], x2_order[1]]\n",
        "\n",
        "def roi(image, ancho, alto):\n",
        "    imagen_alineada = None\n",
        "    gray = cv2.cvtColor(image, cv2.COLOR_BGR2GRAY)\n",
        "    _, th = cv2.threshold(gray, 150, 255, cv2.THRESH_BINARY)\n",
        "    #cv2.imshow('th',th)\n",
        "    cnts = cv2.findContours(th, cv2.RETR_EXTERNAL, cv2.CHAIN_APPROX_SIMPLE)[0]\n",
        "    cnts = sorted(cnts, key=cv2.contourArea, reverse=True)[:1]\n",
        "    for c in cnts:\n",
        "        epsilon = 0.01*cv2.arcLength(c,True) #aplica la transformación de perspectiva e identificacion\n",
        "        approx = cv2.approxPolyDP(c,epsilon,True)\n",
        "\n",
        "        if len(approx) == 4:\n",
        "            puntos = ordenar_puntos(approx)\n",
        "            pts1 = np.float32(puntos)\n",
        "            pts2 = np.float32([[0,0], [ancho,0], [0,alto], [ancho,alto]])\n",
        "            M = cv2.getPerspectiveTransform(pts1, pts2)\n",
        "            imagen_alineada = cv2.warpPerspective(image, M, (ancho,alto))\n",
        "    return imagen_alineada\n",
        "\n",
        "cap = cv2.VideoCapture(0)\n",
        "\n",
        "while(True):\n",
        "    ret, frame = cap.read()\n",
        "    if ret == False: break\n",
        "    imagen_A4 = roi(frame, ancho=720, alto=509)\n",
        "    if imagen_A4 is not None:\n",
        "        puntos = []\n",
        "        imagenHSV = cv2.cvtColor(imagen_A4, cv2.COLOR_BGR2HSV)\n",
        "        verdeBajo = np.array([36, 14, 0], np.uint8)\n",
        "        verdeAlto = np.array([56, 120, 255], np.uint8)\n",
        "        maskVerde = cv2.inRange(imagenHSV, verdeBajo, verdeAlto)\n",
        "        #cv2.imshow('maskVerde',maskVerde)\n",
        "        cnts = cv2.findContours(maskVerde, cv2.RETR_EXTERNAL, cv2.CHAIN_APPROX_SIMPLE)[0]\n",
        "        cnts = sorted(cnts, key=cv2.contourArea, reverse=True)[:2]\n",
        "        for c in cnts:\n",
        "            x, y, w, h = cv2.boundingRect(c)\n",
        "            cv2.rectangle(imagen_A4, (x, y), (x+w, y+h), (255, 0, 0), 2)\n",
        "            puntos.append([x, y, w, h])\n",
        "\n",
        "        if len(puntos) == 2:\n",
        "            x1, y1, w1, h1 = puntos[0]\n",
        "            x2, y2, w2, h2 = puntos[1]\n",
        "\n",
        "            if x1 < x2:\n",
        "                distancia_pixeles = abs(x2 - (x1+w1))\n",
        "                distancia_cm = (distancia_pixeles*29.7)/720\n",
        "                cv2.putText(imagen_A4, \"{:.2f} cm\".format(distancia_cm), (x1+w1+distancia_pixeles//2, y1-30), 2, 0.8, (0,0,255), 1, cv2.LINE_AA)\n",
        "                cv2.line(imagen_A4,(x1+w1,y1-20),(x2, y1-20),(0, 0, 255),2)\n",
        "                cv2.line(imagen_A4,(x1+w1,y1-30),(x1+w1, y1-10),(0, 0, 255),2)\n",
        "                cv2.line(imagen_A4,(x2,y1-30),(x2, y1-10),(0, 0, 255),2)\n",
        "            else:\n",
        "                distancia_pixeles = abs(x1 - (x2+w2))\n",
        "                distancia_cm = (distancia_pixeles*29.7)/720\n",
        "                cv2.putText(imagen_A4, \"{:.2f} cm\".format(distancia_cm), (x2+w2+distancia_pixeles//2, y2-30), 2, 0.8, (0,0,255), 1, cv2.LINE_AA)\n",
        "                cv2.line(imagen_A4,(x2+w2,y2-20),(x1, y2-20),(0, 0, 255),2)\n",
        "                cv2.line(imagen_A4,(x2+w2,y2-30),(x2+w2, y2-10),(0, 0, 255),2)\n",
        "                cv2.line(imagen_A4,(x1,y2-30),(x1, y2-10),(0, 0, 255),2)\n",
        "\n",
        "        cv2.imshow('imagen_A4',imagen_A4)\n",
        "\n",
        "    cv2.imshow('frame', frame)\n",
        "    k = cv2.waitKey(1) & 0xFF\n",
        "    if k == 27:\n",
        "        break\n",
        "cap.release()\n",
        "cv2.destroyAllWindows()"
      ]
    }
  ]
}